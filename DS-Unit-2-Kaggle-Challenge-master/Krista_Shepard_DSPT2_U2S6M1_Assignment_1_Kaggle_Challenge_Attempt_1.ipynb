{
  "nbformat": 4,
  "nbformat_minor": 0,
  "metadata": {
    "colab": {
      "name": "Krista Shepard DSPT2 U2S6M1 -Assignment 1 Kaggle Challenge - Attempt 1.ipynb",
      "provenance": [],
      "collapsed_sections": [],
      "include_colab_link": true
    },
    "kernelspec": {
      "name": "python3",
      "display_name": "Python 3"
    }
  },
  "cells": [
    {
      "cell_type": "markdown",
      "metadata": {
        "id": "view-in-github",
        "colab_type": "text"
      },
      "source": [
        "<a href=\"https://colab.research.google.com/github/KryssyCo/DS-Unit-2-Kaggle-Challenge/blob/master/Krista_Shepard_DSPT2_U2S6M1_Assignment_1_Kaggle_Challenge_Attempt_1.ipynb\" target=\"_parent\"><img src=\"https://colab.research.google.com/assets/colab-badge.svg\" alt=\"Open In Colab\"/></a>"
      ]
    },
    {
      "cell_type": "markdown",
      "metadata": {
        "id": "7IXUfiQ2UKj6",
        "colab_type": "text"
      },
      "source": [
        "Lambda School Data Science, Unit 2: Predictive Modeling\n",
        "\n",
        "# Kaggle Challenge, Module 1\n",
        "\n",
        "## Assignment\n",
        "- [X] Do train/validate/test split with the Tanzania Waterpumps data.\n",
        "- [X] Define a function to wrangle train, validate, and test sets in the same way. Clean outliers and engineer features. (For example, [what other columns have zeros and shouldn't?](https://github.com/Quartz/bad-data-guide#zeros-replace-missing-values) What other columns are duplicates, or nearly duplicates? Can you extract the year from date_recorded? Can you engineer new features, such as the number of years from waterpump construction to waterpump inspection?)\n",
        "- [X] Select features. Use a scikit-learn pipeline to encode categoricals, impute missing values, and fit a decision tree classifier.\n",
        "- [X] Get your validation accuracy score.\n",
        "- [X] Get and plot your feature importances.\n",
        "- [X] Submit your predictions to our Kaggle competition. (Go to our Kaggle InClass competition webpage. Use the blue **Submit Predictions** button to upload your CSV file. Or you can use the Kaggle API to submit your predictions.)\n",
        "- [X] Commit your notebook to your fork of the GitHub repo.\n",
        "\n",
        "\n",
        "## Stretch Goals\n",
        "\n",
        "### Reading\n",
        "\n",
        "- A Visual Introduction to Machine Learning\n",
        "  - [Part 1: A Decision Tree](http://www.r2d3.us/visual-intro-to-machine-learning-part-1/)\n",
        "  - [Part 2: Bias and Variance](http://www.r2d3.us/visual-intro-to-machine-learning-part-2/)\n",
        "- [Decision Trees: Advantages & Disadvantages](https://christophm.github.io/interpretable-ml-book/tree.html#advantages-2)\n",
        "- [How a Russian mathematician constructed a decision tree — by hand — to solve a medical problem](http://fastml.com/how-a-russian-mathematician-constructed-a-decision-tree-by-hand-to-solve-a-medical-problem/)\n",
        "- [How decision trees work](https://brohrer.github.io/how_decision_trees_work.html)\n",
        "- [Let’s Write a Decision Tree Classifier from Scratch](https://www.youtube.com/watch?v=LDRbO9a6XPU) — _Don’t worry about understanding the code, just get introduced to the concepts. This 10 minute video has excellent diagrams and explanations._\n",
        "- [Random Forests for Complete Beginners: The definitive guide to Random Forests and Decision Trees](https://victorzhou.com/blog/intro-to-random-forests/)\n",
        "\n",
        "\n",
        "### Doing\n",
        "- [ ] Add your own stretch goal(s) !\n",
        "- [ ] Try other [scikit-learn imputers](https://scikit-learn.org/stable/modules/impute.html).\n",
        "- [ ] Try other [scikit-learn scalers](https://scikit-learn.org/stable/modules/preprocessing.html).\n",
        "- [ ] Make exploratory visualizations and share on Slack.\n",
        "\n",
        "\n",
        "#### Exploratory visualizations\n",
        "\n",
        "Visualize the relationships between feature(s) and target. I recommend you do this with your training set, after splitting your data. \n",
        "\n",
        "For this problem, you may want to create a new column to represent the target as a number, 0 or 1. For example:\n",
        "\n",
        "```python\n",
        "train['functional'] = (train['status_group']=='functional').astype(int)\n",
        "```\n",
        "\n",
        "\n",
        "\n",
        "You can try [Seaborn \"Categorical estimate\" plots](https://seaborn.pydata.org/tutorial/categorical.html) for features with reasonably few unique values. (With too many unique values, the plot is unreadable.)\n",
        "\n",
        "- Categorical features. (If there are too many unique values, you can replace less frequent values with \"OTHER.\")\n",
        "- Numeric features. (If there are too many unique values, you can [bin with pandas cut / qcut functions](https://pandas.pydata.org/pandas-docs/stable/getting_started/basics.html?highlight=qcut#discretization-and-quantiling).)\n",
        "\n",
        "You can try [Seaborn linear model plots](https://seaborn.pydata.org/tutorial/regression.html) with numeric features. For this problem, you may want to use the parameter `logistic=True`\n",
        "\n",
        "You do _not_ need to use Seaborn, but it's nice because it includes confidence intervals to visualize uncertainty.\n",
        "\n",
        "#### High-cardinality categoricals\n",
        "\n",
        "This code from a previous assignment demonstrates how to replace less frequent values with 'OTHER'\n",
        "\n",
        "```python\n",
        "# Reduce cardinality for NEIGHBORHOOD feature ...\n",
        "\n",
        "# Get a list of the top 10 neighborhoods\n",
        "top10 = train['NEIGHBORHOOD'].value_counts()[:10].index\n",
        "\n",
        "# At locations where the neighborhood is NOT in the top 10,\n",
        "# replace the neighborhood with 'OTHER'\n",
        "train.loc[~train['NEIGHBORHOOD'].isin(top10), 'NEIGHBORHOOD'] = 'OTHER'\n",
        "test.loc[~test['NEIGHBORHOOD'].isin(top10), 'NEIGHBORHOOD'] = 'OTHER'\n",
        "```\n",
        "\n"
      ]
    },
    {
      "cell_type": "code",
      "metadata": {
        "id": "o9eSnDYhUGD7",
        "colab_type": "code",
        "outputId": "4dfdb579-292a-4e5e-8d38-de234a88a796",
        "colab": {
          "base_uri": "https://localhost:8080/",
          "height": 1000
        }
      },
      "source": [
        "# If you're in Colab...\n",
        "import os, sys\n",
        "\n",
        "    \n",
        "    # Change into directory for module\n",
        "    os.chdir('module1')"
      ],
      "execution_count": 0,
      "outputs": [
        {
          "output_type": "stream",
          "text": [
            "Requirement already up-to-date: category_encoders in /usr/local/lib/python3.6/dist-packages (2.0.0)\n",
            "Requirement already up-to-date: pandas-profiling in /usr/local/lib/python3.6/dist-packages (2.3.0)\n",
            "Requirement already up-to-date: plotly in /usr/local/lib/python3.6/dist-packages (4.1.1)\n",
            "Requirement already satisfied, skipping upgrade: scipy>=0.19.0 in /usr/local/lib/python3.6/dist-packages (from category_encoders) (1.3.1)\n",
            "Requirement already satisfied, skipping upgrade: statsmodels>=0.6.1 in /usr/local/lib/python3.6/dist-packages (from category_encoders) (0.10.1)\n",
            "Requirement already satisfied, skipping upgrade: scikit-learn>=0.20.0 in /usr/local/lib/python3.6/dist-packages (from category_encoders) (0.21.3)\n",
            "Requirement already satisfied, skipping upgrade: numpy>=1.11.3 in /usr/local/lib/python3.6/dist-packages (from category_encoders) (1.16.5)\n",
            "Requirement already satisfied, skipping upgrade: pandas>=0.21.1 in /usr/local/lib/python3.6/dist-packages (from category_encoders) (0.24.2)\n",
            "Requirement already satisfied, skipping upgrade: patsy>=0.4.1 in /usr/local/lib/python3.6/dist-packages (from category_encoders) (0.5.1)\n",
            "Requirement already satisfied, skipping upgrade: phik>=0.9.8 in /usr/local/lib/python3.6/dist-packages (from pandas-profiling) (0.9.8)\n",
            "Requirement already satisfied, skipping upgrade: htmlmin>=0.1.12 in /usr/local/lib/python3.6/dist-packages (from pandas-profiling) (0.1.12)\n",
            "Requirement already satisfied, skipping upgrade: astropy in /usr/local/lib/python3.6/dist-packages (from pandas-profiling) (3.0.5)\n",
            "Requirement already satisfied, skipping upgrade: matplotlib>=1.4 in /usr/local/lib/python3.6/dist-packages (from pandas-profiling) (3.0.3)\n",
            "Requirement already satisfied, skipping upgrade: jinja2>=2.8 in /usr/local/lib/python3.6/dist-packages (from pandas-profiling) (2.10.1)\n",
            "Requirement already satisfied, skipping upgrade: confuse>=1.0.0 in /usr/local/lib/python3.6/dist-packages (from pandas-profiling) (1.0.0)\n",
            "Requirement already satisfied, skipping upgrade: missingno>=0.4.2 in /usr/local/lib/python3.6/dist-packages (from pandas-profiling) (0.4.2)\n",
            "Requirement already satisfied, skipping upgrade: six in /usr/local/lib/python3.6/dist-packages (from plotly) (1.12.0)\n",
            "Requirement already satisfied, skipping upgrade: retrying>=1.3.3 in /usr/local/lib/python3.6/dist-packages (from plotly) (1.3.3)\n",
            "Requirement already satisfied, skipping upgrade: joblib>=0.11 in /usr/local/lib/python3.6/dist-packages (from scikit-learn>=0.20.0->category_encoders) (0.13.2)\n",
            "Requirement already satisfied, skipping upgrade: python-dateutil>=2.5.0 in /usr/local/lib/python3.6/dist-packages (from pandas>=0.21.1->category_encoders) (2.5.3)\n",
            "Requirement already satisfied, skipping upgrade: pytz>=2011k in /usr/local/lib/python3.6/dist-packages (from pandas>=0.21.1->category_encoders) (2018.9)\n",
            "Requirement already satisfied, skipping upgrade: pytest>=4.0.2 in /usr/local/lib/python3.6/dist-packages (from phik>=0.9.8->pandas-profiling) (5.1.2)\n",
            "Requirement already satisfied, skipping upgrade: numba>=0.38.1 in /usr/local/lib/python3.6/dist-packages (from phik>=0.9.8->pandas-profiling) (0.40.1)\n",
            "Requirement already satisfied, skipping upgrade: pytest-pylint>=0.13.0 in /usr/local/lib/python3.6/dist-packages (from phik>=0.9.8->pandas-profiling) (0.14.1)\n",
            "Requirement already satisfied, skipping upgrade: nbconvert>=5.3.1 in /usr/local/lib/python3.6/dist-packages (from phik>=0.9.8->pandas-profiling) (5.6.0)\n",
            "Requirement already satisfied, skipping upgrade: jupyter-client>=5.2.3 in /usr/local/lib/python3.6/dist-packages (from phik>=0.9.8->pandas-profiling) (5.3.1)\n",
            "Requirement already satisfied, skipping upgrade: kiwisolver>=1.0.1 in /usr/local/lib/python3.6/dist-packages (from matplotlib>=1.4->pandas-profiling) (1.1.0)\n",
            "Requirement already satisfied, skipping upgrade: pyparsing!=2.0.4,!=2.1.2,!=2.1.6,>=2.0.1 in /usr/local/lib/python3.6/dist-packages (from matplotlib>=1.4->pandas-profiling) (2.4.2)\n",
            "Requirement already satisfied, skipping upgrade: cycler>=0.10 in /usr/local/lib/python3.6/dist-packages (from matplotlib>=1.4->pandas-profiling) (0.10.0)\n",
            "Requirement already satisfied, skipping upgrade: MarkupSafe>=0.23 in /usr/local/lib/python3.6/dist-packages (from jinja2>=2.8->pandas-profiling) (1.1.1)\n",
            "Requirement already satisfied, skipping upgrade: pyyaml in /usr/local/lib/python3.6/dist-packages (from confuse>=1.0.0->pandas-profiling) (3.13)\n",
            "Requirement already satisfied, skipping upgrade: seaborn in /usr/local/lib/python3.6/dist-packages (from missingno>=0.4.2->pandas-profiling) (0.9.0)\n",
            "Requirement already satisfied, skipping upgrade: importlib-metadata>=0.12; python_version < \"3.8\" in /usr/local/lib/python3.6/dist-packages (from pytest>=4.0.2->phik>=0.9.8->pandas-profiling) (0.23)\n",
            "Requirement already satisfied, skipping upgrade: packaging in /usr/local/lib/python3.6/dist-packages (from pytest>=4.0.2->phik>=0.9.8->pandas-profiling) (19.1)\n",
            "Requirement already satisfied, skipping upgrade: pluggy<1.0,>=0.12 in /usr/local/lib/python3.6/dist-packages (from pytest>=4.0.2->phik>=0.9.8->pandas-profiling) (0.13.0)\n",
            "Requirement already satisfied, skipping upgrade: atomicwrites>=1.0 in /usr/local/lib/python3.6/dist-packages (from pytest>=4.0.2->phik>=0.9.8->pandas-profiling) (1.3.0)\n",
            "Requirement already satisfied, skipping upgrade: attrs>=17.4.0 in /usr/local/lib/python3.6/dist-packages (from pytest>=4.0.2->phik>=0.9.8->pandas-profiling) (19.1.0)\n",
            "Requirement already satisfied, skipping upgrade: more-itertools>=4.0.0 in /usr/local/lib/python3.6/dist-packages (from pytest>=4.0.2->phik>=0.9.8->pandas-profiling) (7.2.0)\n",
            "Requirement already satisfied, skipping upgrade: py>=1.5.0 in /usr/local/lib/python3.6/dist-packages (from pytest>=4.0.2->phik>=0.9.8->pandas-profiling) (1.8.0)\n",
            "Requirement already satisfied, skipping upgrade: wcwidth in /usr/local/lib/python3.6/dist-packages (from pytest>=4.0.2->phik>=0.9.8->pandas-profiling) (0.1.7)\n",
            "Requirement already satisfied, skipping upgrade: llvmlite>=0.25.0dev0 in /usr/local/lib/python3.6/dist-packages (from numba>=0.38.1->phik>=0.9.8->pandas-profiling) (0.29.0)\n",
            "Requirement already satisfied, skipping upgrade: pylint>=1.4.5 in /usr/local/lib/python3.6/dist-packages (from pytest-pylint>=0.13.0->phik>=0.9.8->pandas-profiling) (2.3.1)\n",
            "Requirement already satisfied, skipping upgrade: pygments in /usr/local/lib/python3.6/dist-packages (from nbconvert>=5.3.1->phik>=0.9.8->pandas-profiling) (2.1.3)\n",
            "Requirement already satisfied, skipping upgrade: defusedxml in /usr/local/lib/python3.6/dist-packages (from nbconvert>=5.3.1->phik>=0.9.8->pandas-profiling) (0.6.0)\n",
            "Requirement already satisfied, skipping upgrade: jupyter-core in /usr/local/lib/python3.6/dist-packages (from nbconvert>=5.3.1->phik>=0.9.8->pandas-profiling) (4.5.0)\n",
            "Requirement already satisfied, skipping upgrade: mistune<2,>=0.8.1 in /usr/local/lib/python3.6/dist-packages (from nbconvert>=5.3.1->phik>=0.9.8->pandas-profiling) (0.8.4)\n",
            "Requirement already satisfied, skipping upgrade: bleach in /usr/local/lib/python3.6/dist-packages (from nbconvert>=5.3.1->phik>=0.9.8->pandas-profiling) (3.1.0)\n",
            "Requirement already satisfied, skipping upgrade: traitlets>=4.2 in /usr/local/lib/python3.6/dist-packages (from nbconvert>=5.3.1->phik>=0.9.8->pandas-profiling) (4.3.2)\n",
            "Requirement already satisfied, skipping upgrade: pandocfilters>=1.4.1 in /usr/local/lib/python3.6/dist-packages (from nbconvert>=5.3.1->phik>=0.9.8->pandas-profiling) (1.4.2)\n",
            "Requirement already satisfied, skipping upgrade: testpath in /usr/local/lib/python3.6/dist-packages (from nbconvert>=5.3.1->phik>=0.9.8->pandas-profiling) (0.4.2)\n",
            "Requirement already satisfied, skipping upgrade: nbformat>=4.4 in /usr/local/lib/python3.6/dist-packages (from nbconvert>=5.3.1->phik>=0.9.8->pandas-profiling) (4.4.0)\n",
            "Requirement already satisfied, skipping upgrade: entrypoints>=0.2.2 in /usr/local/lib/python3.6/dist-packages (from nbconvert>=5.3.1->phik>=0.9.8->pandas-profiling) (0.3)\n",
            "Requirement already satisfied, skipping upgrade: pyzmq>=13 in /usr/local/lib/python3.6/dist-packages (from jupyter-client>=5.2.3->phik>=0.9.8->pandas-profiling) (17.0.0)\n",
            "Requirement already satisfied, skipping upgrade: tornado>=4.1 in /usr/local/lib/python3.6/dist-packages (from jupyter-client>=5.2.3->phik>=0.9.8->pandas-profiling) (4.5.3)\n",
            "Requirement already satisfied, skipping upgrade: setuptools in /usr/local/lib/python3.6/dist-packages (from kiwisolver>=1.0.1->matplotlib>=1.4->pandas-profiling) (41.2.0)\n",
            "Requirement already satisfied, skipping upgrade: zipp>=0.5 in /usr/local/lib/python3.6/dist-packages (from importlib-metadata>=0.12; python_version < \"3.8\"->pytest>=4.0.2->phik>=0.9.8->pandas-profiling) (0.6.0)\n",
            "Requirement already satisfied, skipping upgrade: astroid<3,>=2.2.0 in /usr/local/lib/python3.6/dist-packages (from pylint>=1.4.5->pytest-pylint>=0.13.0->phik>=0.9.8->pandas-profiling) (2.2.5)\n",
            "Requirement already satisfied, skipping upgrade: mccabe<0.7,>=0.6 in /usr/local/lib/python3.6/dist-packages (from pylint>=1.4.5->pytest-pylint>=0.13.0->phik>=0.9.8->pandas-profiling) (0.6.1)\n",
            "Requirement already satisfied, skipping upgrade: isort<5,>=4.2.5 in /usr/local/lib/python3.6/dist-packages (from pylint>=1.4.5->pytest-pylint>=0.13.0->phik>=0.9.8->pandas-profiling) (4.3.21)\n",
            "Requirement already satisfied, skipping upgrade: webencodings in /usr/local/lib/python3.6/dist-packages (from bleach->nbconvert>=5.3.1->phik>=0.9.8->pandas-profiling) (0.5.1)\n",
            "Requirement already satisfied, skipping upgrade: ipython-genutils in /usr/local/lib/python3.6/dist-packages (from traitlets>=4.2->nbconvert>=5.3.1->phik>=0.9.8->pandas-profiling) (0.2.0)\n",
            "Requirement already satisfied, skipping upgrade: decorator in /usr/local/lib/python3.6/dist-packages (from traitlets>=4.2->nbconvert>=5.3.1->phik>=0.9.8->pandas-profiling) (4.4.0)\n",
            "Requirement already satisfied, skipping upgrade: jsonschema!=2.5.0,>=2.4 in /usr/local/lib/python3.6/dist-packages (from nbformat>=4.4->nbconvert>=5.3.1->phik>=0.9.8->pandas-profiling) (2.6.0)\n",
            "Requirement already satisfied, skipping upgrade: typed-ast>=1.3.0; implementation_name == \"cpython\" in /usr/local/lib/python3.6/dist-packages (from astroid<3,>=2.2.0->pylint>=1.4.5->pytest-pylint>=0.13.0->phik>=0.9.8->pandas-profiling) (1.4.0)\n",
            "Requirement already satisfied, skipping upgrade: lazy-object-proxy in /usr/local/lib/python3.6/dist-packages (from astroid<3,>=2.2.0->pylint>=1.4.5->pytest-pylint>=0.13.0->phik>=0.9.8->pandas-profiling) (1.4.2)\n",
            "Requirement already satisfied, skipping upgrade: wrapt in /usr/local/lib/python3.6/dist-packages (from astroid<3,>=2.2.0->pylint>=1.4.5->pytest-pylint>=0.13.0->phik>=0.9.8->pandas-profiling) (1.11.2)\n",
            "Reinitialized existing Git repository in /content/.git/\n",
            "fatal: remote origin already exists.\n",
            "From https://github.com/LambdaSchool/DS-Unit-2-Kaggle-Challenge\n",
            " * branch            master     -> FETCH_HEAD\n",
            "Already up to date.\n"
          ],
          "name": "stdout"
        }
      ]
    },
    {
      "cell_type": "code",
      "metadata": {
        "id": "QJBD4ruICm1m",
        "colab_type": "code",
        "outputId": "cc8d6624-422c-4de7-c812-29e5ba64a25f",
        "colab": {
          "base_uri": "https://localhost:8080/",
          "height": 34
        }
      },
      "source": [
        "import pandas as pd\n",
        "from sklearn.model_selection import train_test_split\n",
        "\n",
        "train = pd.merge(pd.read_csv('../data/tanzania/train_features.csv'), \n",
        "                 pd.read_csv('../data/tanzania/train_labels.csv'))\n",
        "test = pd.read_csv('../data/tanzania/test_features.csv')\n",
        "sample_submission = pd.read_csv('../data/tanzania/sample_submission.csv')\n",
        "\n",
        "train.shape, test.shape"
      ],
      "execution_count": 0,
      "outputs": [
        {
          "output_type": "execute_result",
          "data": {
            "text/plain": [
              "((59400, 41), (14358, 40))"
            ]
          },
          "metadata": {
            "tags": []
          },
          "execution_count": 2
        }
      ]
    },
    {
      "cell_type": "markdown",
      "metadata": {
        "id": "5gBD-gdwQw4m",
        "colab_type": "text"
      },
      "source": [
        "### 1. Do train/validate/test split with the Tanzania Waterpumps data."
      ]
    },
    {
      "cell_type": "code",
      "metadata": {
        "id": "2Amxyx3xphbb",
        "colab_type": "code",
        "outputId": "bc4ff6fc-6d1c-4758-8264-e1d966805156",
        "colab": {
          "base_uri": "https://localhost:8080/",
          "height": 34
        }
      },
      "source": [
        "train, val = train_test_split(train, train_size=0.80, test_size=0.20, \n",
        "                    stratify=train['status_group'], random_state=42)\n",
        "\n",
        "train.shape, val.shape, test.shape"
      ],
      "execution_count": 0,
      "outputs": [
        {
          "output_type": "execute_result",
          "data": {
            "text/plain": [
              "((47520, 41), (11880, 41), (14358, 40))"
            ]
          },
          "metadata": {
            "tags": []
          },
          "execution_count": 3
        }
      ]
    },
    {
      "cell_type": "markdown",
      "metadata": {
        "id": "GheVU1rFStlr",
        "colab_type": "text"
      },
      "source": [
        "## 2. Define a function to wrangle train, validate, and test sets in the same way. \n",
        "\n",
        "##Clean outliers and engineer features. \n",
        "Completed\n",
        "## For example what other columns have zeros and shouldn't? \n",
        "Addressed in wrangling code.\n",
        "## What other columns are duplicates, or nearly duplicates? \n",
        "Addressed in wrangling code. \n",
        "## Can you extract the year from date_recorded? \n",
        "Yes\n",
        "## Can you engineer new features, such as the number of years from waterpump construction to waterpump inspection?\n",
        " I tried assuming the inspection date was the date_recorded, I tried to engineer a feature that would subtract the construction date from the date_recorded.\n",
        " \n",
        "As a second engineered feature, I attempted to append 3 columns but ran into a blocker \n",
        "\n",
        "I will address both in 1:1"
      ]
    },
    {
      "cell_type": "code",
      "metadata": {
        "id": "h52wnPdxT98d",
        "colab_type": "code",
        "colab": {}
      },
      "source": [
        "import numpy as np\n",
        "# import pandas_profiling as pp\n",
        "# pp.ProfileReport(train)"
      ],
      "execution_count": 0,
      "outputs": []
    },
    {
      "cell_type": "code",
      "metadata": {
        "id": "0dx5ylPrSs-d",
        "colab_type": "code",
        "colab": {}
      },
      "source": [
        "def wrangle(X):\n",
        "  X = X.copy()\n",
        "\n",
        "# Get rid of null island\n",
        "  X['latitude'] = X['latitude'].replace(-2e-08, 0)\n",
        "\n",
        "# Dropping duplicate features\n",
        "  X = X.drop(columns = ['quantity_group', 'payment_type', 'recorded_by',\n",
        "                      'waterpoint_type', 'source_type', 'quality_group'])\n",
        "\n",
        "# Change date recorded to date time format\n",
        "  X['date_recorded'] = pd.to_datetime(X['date_recorded'], infer_datetime_format = True)\n",
        "  X['construction_year'] = pd.to_datetime(X['date_recorded'], infer_datetime_format = True)\n",
        "\n",
        "# Extract year from date time\n",
        "  X['date_recorded'] = X['date_recorded'].dt.year\n",
        "  X['construction_year'] = X['construction_year'].dt.year\n",
        "\n",
        " # Replacing zeroes with null values\n",
        "  cols_with_zeroes = ['date_recorded', 'construction_year', 'longitude', 'latitude']\n",
        "  for col in cols_with_zeroes:\n",
        "    X[col] = X[col].replace(0, np.nan) \n",
        "\n",
        "# For categoricals with missing values fill with 'missing'\n",
        "  categoricals = X.select_dtypes(exclude='number').columns\n",
        "  for col in categoricals:\n",
        "    X[col] = X[col].fillna('missing')\n",
        "\n",
        "  return X\n",
        "\n",
        "train = wrangle(train)\n",
        "val = wrangle(val)\n",
        "test= wrangle(test)\n",
        "\n",
        "## My unsuccessful attempts at feature engineering\n",
        "#train['time_between_install_and_inspect'] = (train['date_recorded'] - train['construction_year'])\n",
        "\n",
        "# df1 = train['extraction_type']\n",
        "# df2 = train['extraction_type_group']\n",
        "# df3 = train['extraction_type_class']\n",
        "# df2 = df1.append(df2, ignore_index=True, verify_integrity=True)\n",
        "# df4 = df2.append(df3, ignore_index=True, verify_integrity=True)\n",
        "# train['extract'] = df4\n"
      ],
      "execution_count": 0,
      "outputs": []
    },
    {
      "cell_type": "markdown",
      "metadata": {
        "colab_type": "text",
        "id": "e27lPHKmqkFO"
      },
      "source": [
        "***Note for discussion in 1:1 - How to combine columns without duplicating the values.***"
      ]
    },
    {
      "cell_type": "markdown",
      "metadata": {
        "id": "bOL5g8la6nG3",
        "colab_type": "text"
      },
      "source": [
        "## 3. Select features. Use a scikit-learn pipeline to encode categoricals, impute missing values, and fit a decision tree classifier."
      ]
    },
    {
      "cell_type": "code",
      "metadata": {
        "id": "t4fNP3RnXUGA",
        "colab_type": "code",
        "colab": {}
      },
      "source": [
        "# Define the target\n",
        "target = 'status_group'\n",
        "\n",
        "# Get a DF with all train cols except target and id\n",
        "train_features = train.drop(columns=[target, 'id'])\n",
        "\n",
        "# Get a list of the numeric features\n",
        "numeric_features = train_features.select_dtypes(include='number').columns.tolist()\n",
        "\n",
        "# Get a series with the cardinality of the nonnumeric features\n",
        "cardinality = train_features.select_dtypes(exclude='number').nunique()\n",
        "\n",
        "# Get a list of all categorical features with cardinality <=50\n",
        "categorical_features = cardinality[cardinality <=50].index.tolist()\n",
        "\n",
        "# Combine the lists\n",
        "features = numeric_features + categorical_features"
      ],
      "execution_count": 0,
      "outputs": []
    },
    {
      "cell_type": "code",
      "metadata": {
        "id": "e9t_FnBG9EHh",
        "colab_type": "code",
        "colab": {}
      },
      "source": [
        "# Arrange data into X features matrix and Y vector\n",
        "X_train = train[features]\n",
        "y_train = train[target]\n",
        "X_val = val[features]\n",
        "y_val = val[target]\n",
        "X_test = test[features]"
      ],
      "execution_count": 0,
      "outputs": []
    },
    {
      "cell_type": "code",
      "metadata": {
        "id": "8xkdzQ5oAF2a",
        "colab_type": "code",
        "outputId": "715f9b2b-62c0-4fbe-ebca-9c6d5cb51f16",
        "colab": {
          "base_uri": "https://localhost:8080/",
          "height": 34
        }
      },
      "source": [
        "# Logistic regression\n",
        "import category_encoders as ce\n",
        "from sklearn.impute import SimpleImputer\n",
        "from sklearn.linear_model import LogisticRegression\n",
        "from sklearn.pipeline import make_pipeline\n",
        "from sklearn.preprocessing import StandardScaler\n",
        "\n",
        "pipeline = make_pipeline (\n",
        "    ce.OneHotEncoder(use_cat_names=True),\n",
        "    SimpleImputer(),\n",
        "    StandardScaler(),\n",
        "    LogisticRegression(multi_class='auto', solver='lbfgs', n_jobs=-1)\n",
        ")\n",
        "\n",
        "pipeline.fit(X_train, y_train)\n",
        "\n",
        "print ('Validation Accuracy', pipeline.score(X_val, y_val))\n",
        "\n",
        "y_pred = pipeline.predict(X_test)"
      ],
      "execution_count": 0,
      "outputs": [
        {
          "output_type": "stream",
          "text": [
            "Validation Accuracy 0.7308080808080808\n"
          ],
          "name": "stdout"
        }
      ]
    },
    {
      "cell_type": "code",
      "metadata": {
        "id": "rD7-_rVC-Bzz",
        "colab_type": "code",
        "outputId": "e680344a-24b2-48fc-8cf6-fd39a5cd9eca",
        "colab": {
          "base_uri": "https://localhost:8080/",
          "height": 34
        }
      },
      "source": [
        "import category_encoders as ce\n",
        "from sklearn.impute import SimpleImputer\n",
        "from sklearn.linear_model import LogisticRegression\n",
        "from sklearn.pipeline import make_pipeline\n",
        "from sklearn.preprocessing import StandardScaler\n",
        "\n",
        "encoder = ce.OneHotEncoder(use_cat_names=True)\n",
        "imputer = SimpleImputer()\n",
        "scaler = StandardScaler()\n",
        "model = LogisticRegression(multi_class='auto', solver='lbfgs', n_jobs=-1)\n",
        "\n",
        "X_train_encoded = encoder.fit_transform(X_train)\n",
        "X_train_imputed = imputer.fit_transform(X_train_encoded)\n",
        "X_train_scaled = scaler.fit_transform(X_train_imputed)\n",
        "model.fit(X_train_scaled, y_train)\n",
        "\n",
        "X_val_encoded = encoder.transform(X_val)\n",
        "X_val_imputed = imputer.transform(X_val_encoded)\n",
        "X_val_scaled = scaler.transform(X_val_imputed)\n",
        "print('Validation Accuracy', model.score(X_val_scaled, y_val))\n",
        "\n",
        "X_test_encoded = encoder.transform(X_test)\n",
        "X_test_imputed = imputer.transform(X_test_encoded)\n",
        "X_test_scaled = scaler.transform(X_test_imputed)\n",
        "y_pred = model.predict(X_test_scaled)"
      ],
      "execution_count": 0,
      "outputs": [
        {
          "output_type": "stream",
          "text": [
            "Validation Accuracy 0.7308080808080808\n"
          ],
          "name": "stdout"
        }
      ]
    },
    {
      "cell_type": "code",
      "metadata": {
        "id": "sCsErfm02oax",
        "colab_type": "code",
        "outputId": "8cc7930f-b538-4f73-b3d5-c059b7226288",
        "colab": {
          "base_uri": "https://localhost:8080/",
          "height": 654
        }
      },
      "source": [
        "import graphviz\n",
        "from sklearn.tree import export_graphviz\n",
        "\n",
        "pipeline = make_pipeline(\n",
        "    \n",
        "    ce.OneHotEncoder(use_cat_names=True),\n",
        "    SimpleImputer(),\n",
        "    DecisionTreeClassifier(max_depth=15, random_state=42)\n",
        "\n",
        ")\n",
        "pipeline.fit(X_train, y_train)\n",
        "\n",
        "\n",
        "model = pipeline.named_steps['decisiontreeclassifier']\n",
        "encoder = pipeline.named_steps['onehotencoder']\n",
        "encoded_columns = encoder.transform(X_val).columns\n",
        "\n",
        "dot_data = export_graphviz(model, \n",
        "                           out_file=None, \n",
        "                           max_depth=3, \n",
        "                           feature_names=encoded_columns,\n",
        "                           class_names=model.classes_, \n",
        "                           impurity=False, \n",
        "                           filled=True, \n",
        "                           proportion=True, \n",
        "                           rounded=True)   \n",
        "display(graphviz.Source(dot_data))\n"
      ],
      "execution_count": 0,
      "outputs": [
        {
          "output_type": "display_data",
          "data": {
            "text/plain": [
              "<graphviz.files.Source at 0x7fd4b6b51518>"
            ],
            "image/svg+xml": "<?xml version=\"1.0\" encoding=\"UTF-8\" standalone=\"no\"?>\n<!DOCTYPE svg PUBLIC \"-//W3C//DTD SVG 1.1//EN\"\n \"http://www.w3.org/Graphics/SVG/1.1/DTD/svg11.dtd\">\n<!-- Generated by graphviz version 2.40.1 (20161225.0304)\n -->\n<!-- Title: Tree Pages: 1 -->\n<svg width=\"1902pt\" height=\"460pt\"\n viewBox=\"0.00 0.00 1901.50 460.00\" xmlns=\"http://www.w3.org/2000/svg\" xmlns:xlink=\"http://www.w3.org/1999/xlink\">\n<g id=\"graph0\" class=\"graph\" transform=\"scale(1 1) rotate(0) translate(4 456)\">\n<title>Tree</title>\n<polygon fill=\"#ffffff\" stroke=\"transparent\" points=\"-4,4 -4,-456 1897.5,-456 1897.5,4 -4,4\"/>\n<!-- 0 -->\n<g id=\"node1\" class=\"node\">\n<title>0</title>\n<path fill=\"#f8decc\" stroke=\"#000000\" d=\"M1007.5,-452C1007.5,-452 831.5,-452 831.5,-452 825.5,-452 819.5,-446 819.5,-440 819.5,-440 819.5,-396 819.5,-396 819.5,-390 825.5,-384 831.5,-384 831.5,-384 1007.5,-384 1007.5,-384 1013.5,-384 1019.5,-390 1019.5,-396 1019.5,-396 1019.5,-440 1019.5,-440 1019.5,-446 1013.5,-452 1007.5,-452\"/>\n<text text-anchor=\"middle\" x=\"919.5\" y=\"-436.8\" font-family=\"Helvetica,sans-Serif\" font-size=\"14.00\" fill=\"#000000\">quantity_dry &lt;= 0.5</text>\n<text text-anchor=\"middle\" x=\"919.5\" y=\"-421.8\" font-family=\"Helvetica,sans-Serif\" font-size=\"14.00\" fill=\"#000000\">samples = 100.0%</text>\n<text text-anchor=\"middle\" x=\"919.5\" y=\"-406.8\" font-family=\"Helvetica,sans-Serif\" font-size=\"14.00\" fill=\"#000000\">value = [0.543, 0.073, 0.384]</text>\n<text text-anchor=\"middle\" x=\"919.5\" y=\"-391.8\" font-family=\"Helvetica,sans-Serif\" font-size=\"14.00\" fill=\"#000000\">class = functional</text>\n</g>\n<!-- 1 -->\n<g id=\"node2\" class=\"node\">\n<title>1</title>\n<path fill=\"#f4caac\" stroke=\"#000000\" d=\"M892,-348C892,-348 665,-348 665,-348 659,-348 653,-342 653,-336 653,-336 653,-292 653,-292 653,-286 659,-280 665,-280 665,-280 892,-280 892,-280 898,-280 904,-286 904,-292 904,-292 904,-336 904,-336 904,-342 898,-348 892,-348\"/>\n<text text-anchor=\"middle\" x=\"778.5\" y=\"-332.8\" font-family=\"Helvetica,sans-Serif\" font-size=\"14.00\" fill=\"#000000\">waterpoint_type_group_other &lt;= 0.5</text>\n<text text-anchor=\"middle\" x=\"778.5\" y=\"-317.8\" font-family=\"Helvetica,sans-Serif\" font-size=\"14.00\" fill=\"#000000\">samples = 89.6%</text>\n<text text-anchor=\"middle\" x=\"778.5\" y=\"-302.8\" font-family=\"Helvetica,sans-Serif\" font-size=\"14.00\" fill=\"#000000\">value = [0.603, 0.08, 0.317]</text>\n<text text-anchor=\"middle\" x=\"778.5\" y=\"-287.8\" font-family=\"Helvetica,sans-Serif\" font-size=\"14.00\" fill=\"#000000\">class = functional</text>\n</g>\n<!-- 0&#45;&gt;1 -->\n<g id=\"edge1\" class=\"edge\">\n<title>0&#45;&gt;1</title>\n<path fill=\"none\" stroke=\"#000000\" d=\"M873.3313,-383.9465C860.4281,-374.4293 846.2855,-363.9978 832.9517,-354.163\"/>\n<polygon fill=\"#000000\" stroke=\"#000000\" points=\"834.8977,-351.2492 824.7724,-348.13 830.7425,-356.8826 834.8977,-351.2492\"/>\n<text text-anchor=\"middle\" x=\"828.5056\" y=\"-369.1497\" font-family=\"Helvetica,sans-Serif\" font-size=\"14.00\" fill=\"#000000\">True</text>\n</g>\n<!-- 3166 -->\n<g id=\"node17\" class=\"node\">\n<title>3166</title>\n<path fill=\"#8540e6\" stroke=\"#000000\" d=\"M1213.5,-348C1213.5,-348 1037.5,-348 1037.5,-348 1031.5,-348 1025.5,-342 1025.5,-336 1025.5,-336 1025.5,-292 1025.5,-292 1025.5,-286 1031.5,-280 1037.5,-280 1037.5,-280 1213.5,-280 1213.5,-280 1219.5,-280 1225.5,-286 1225.5,-292 1225.5,-292 1225.5,-336 1225.5,-336 1225.5,-342 1219.5,-348 1213.5,-348\"/>\n<text text-anchor=\"middle\" x=\"1125.5\" y=\"-332.8\" font-family=\"Helvetica,sans-Serif\" font-size=\"14.00\" fill=\"#000000\">region_Mwanza &lt;= 0.5</text>\n<text text-anchor=\"middle\" x=\"1125.5\" y=\"-317.8\" font-family=\"Helvetica,sans-Serif\" font-size=\"14.00\" fill=\"#000000\">samples = 10.4%</text>\n<text text-anchor=\"middle\" x=\"1125.5\" y=\"-302.8\" font-family=\"Helvetica,sans-Serif\" font-size=\"14.00\" fill=\"#000000\">value = [0.026, 0.006, 0.968]</text>\n<text text-anchor=\"middle\" x=\"1125.5\" y=\"-287.8\" font-family=\"Helvetica,sans-Serif\" font-size=\"14.00\" fill=\"#000000\">class = non functional</text>\n</g>\n<!-- 0&#45;&gt;3166 -->\n<g id=\"edge16\" class=\"edge\">\n<title>0&#45;&gt;3166</title>\n<path fill=\"none\" stroke=\"#000000\" d=\"M986.9521,-383.9465C1006.7817,-373.9354 1028.6149,-362.9129 1048.9688,-352.6371\"/>\n<polygon fill=\"#000000\" stroke=\"#000000\" points=\"1050.5469,-355.7612 1057.8964,-348.13 1047.3921,-349.5124 1050.5469,-355.7612\"/>\n<text text-anchor=\"middle\" x=\"1050.0826\" y=\"-368.1775\" font-family=\"Helvetica,sans-Serif\" font-size=\"14.00\" fill=\"#000000\">False</text>\n</g>\n<!-- 2 -->\n<g id=\"node3\" class=\"node\">\n<title>2</title>\n<path fill=\"#f1bd98\" stroke=\"#000000\" d=\"M495.5,-244C495.5,-244 319.5,-244 319.5,-244 313.5,-244 307.5,-238 307.5,-232 307.5,-232 307.5,-188 307.5,-188 307.5,-182 313.5,-176 319.5,-176 319.5,-176 495.5,-176 495.5,-176 501.5,-176 507.5,-182 507.5,-188 507.5,-188 507.5,-232 507.5,-232 507.5,-238 501.5,-244 495.5,-244\"/>\n<text text-anchor=\"middle\" x=\"407.5\" y=\"-228.8\" font-family=\"Helvetica,sans-Serif\" font-size=\"14.00\" fill=\"#000000\">amount_tsh &lt;= 1.5</text>\n<text text-anchor=\"middle\" x=\"407.5\" y=\"-213.8\" font-family=\"Helvetica,sans-Serif\" font-size=\"14.00\" fill=\"#000000\">samples = 81.1%</text>\n<text text-anchor=\"middle\" x=\"407.5\" y=\"-198.8\" font-family=\"Helvetica,sans-Serif\" font-size=\"14.00\" fill=\"#000000\">value = [0.649, 0.083, 0.268]</text>\n<text text-anchor=\"middle\" x=\"407.5\" y=\"-183.8\" font-family=\"Helvetica,sans-Serif\" font-size=\"14.00\" fill=\"#000000\">class = functional</text>\n</g>\n<!-- 1&#45;&gt;2 -->\n<g id=\"edge2\" class=\"edge\">\n<title>1&#45;&gt;2</title>\n<path fill=\"none\" stroke=\"#000000\" d=\"M657.0207,-279.9465C612.0296,-267.3344 561.3115,-253.117 517.4084,-240.8099\"/>\n<polygon fill=\"#000000\" stroke=\"#000000\" points=\"518.1431,-237.381 507.5695,-238.0518 516.2536,-244.1212 518.1431,-237.381\"/>\n</g>\n<!-- 2509 -->\n<g id=\"node10\" class=\"node\">\n<title>2509</title>\n<path fill=\"#a26dec\" stroke=\"#000000\" d=\"M890,-244C890,-244 667,-244 667,-244 661,-244 655,-238 655,-232 655,-232 655,-188 655,-188 655,-182 661,-176 667,-176 667,-176 890,-176 890,-176 896,-176 902,-182 902,-188 902,-188 902,-232 902,-232 902,-238 896,-244 890,-244\"/>\n<text text-anchor=\"middle\" x=\"778.5\" y=\"-228.8\" font-family=\"Helvetica,sans-Serif\" font-size=\"14.00\" fill=\"#000000\">extraction_type_group_other &lt;= 0.5</text>\n<text text-anchor=\"middle\" x=\"778.5\" y=\"-213.8\" font-family=\"Helvetica,sans-Serif\" font-size=\"14.00\" fill=\"#000000\">samples = 8.5%</text>\n<text text-anchor=\"middle\" x=\"778.5\" y=\"-198.8\" font-family=\"Helvetica,sans-Serif\" font-size=\"14.00\" fill=\"#000000\">value = [0.162, 0.057, 0.781]</text>\n<text text-anchor=\"middle\" x=\"778.5\" y=\"-183.8\" font-family=\"Helvetica,sans-Serif\" font-size=\"14.00\" fill=\"#000000\">class = non functional</text>\n</g>\n<!-- 1&#45;&gt;2509 -->\n<g id=\"edge9\" class=\"edge\">\n<title>1&#45;&gt;2509</title>\n<path fill=\"none\" stroke=\"#000000\" d=\"M778.5,-279.9465C778.5,-271.776 778.5,-262.9318 778.5,-254.3697\"/>\n<polygon fill=\"#000000\" stroke=\"#000000\" points=\"782.0001,-254.13 778.5,-244.13 775.0001,-254.13 782.0001,-254.13\"/>\n</g>\n<!-- 3 -->\n<g id=\"node4\" class=\"node\">\n<title>3</title>\n<path fill=\"#f4ccaf\" stroke=\"#000000\" d=\"M277,-140C277,-140 12,-140 12,-140 6,-140 0,-134 0,-128 0,-128 0,-84 0,-84 0,-78 6,-72 12,-72 12,-72 277,-72 277,-72 283,-72 289,-78 289,-84 289,-84 289,-128 289,-128 289,-134 283,-140 277,-140\"/>\n<text text-anchor=\"middle\" x=\"144.5\" y=\"-124.8\" font-family=\"Helvetica,sans-Serif\" font-size=\"14.00\" fill=\"#000000\">extraction_type_class_submersible &lt;= 0.5</text>\n<text text-anchor=\"middle\" x=\"144.5\" y=\"-109.8\" font-family=\"Helvetica,sans-Serif\" font-size=\"14.00\" fill=\"#000000\">samples = 53.2%</text>\n<text text-anchor=\"middle\" x=\"144.5\" y=\"-94.8\" font-family=\"Helvetica,sans-Serif\" font-size=\"14.00\" fill=\"#000000\">value = [0.594, 0.086, 0.319]</text>\n<text text-anchor=\"middle\" x=\"144.5\" y=\"-79.8\" font-family=\"Helvetica,sans-Serif\" font-size=\"14.00\" fill=\"#000000\">class = functional</text>\n</g>\n<!-- 2&#45;&gt;3 -->\n<g id=\"edge3\" class=\"edge\">\n<title>2&#45;&gt;3</title>\n<path fill=\"none\" stroke=\"#000000\" d=\"M321.384,-175.9465C295.3864,-165.6661 266.6913,-154.319 240.114,-143.8093\"/>\n<polygon fill=\"#000000\" stroke=\"#000000\" points=\"241.3959,-140.5526 230.8095,-140.13 238.8218,-147.0621 241.3959,-140.5526\"/>\n</g>\n<!-- 1584 -->\n<g id=\"node7\" class=\"node\">\n<title>1584</title>\n<path fill=\"#eda774\" stroke=\"#000000\" d=\"M495.5,-140C495.5,-140 319.5,-140 319.5,-140 313.5,-140 307.5,-134 307.5,-128 307.5,-128 307.5,-84 307.5,-84 307.5,-78 313.5,-72 319.5,-72 319.5,-72 495.5,-72 495.5,-72 501.5,-72 507.5,-78 507.5,-84 507.5,-84 507.5,-128 507.5,-128 507.5,-134 501.5,-140 495.5,-140\"/>\n<text text-anchor=\"middle\" x=\"407.5\" y=\"-124.8\" font-family=\"Helvetica,sans-Serif\" font-size=\"14.00\" fill=\"#000000\">longitude &lt;= 30.65</text>\n<text text-anchor=\"middle\" x=\"407.5\" y=\"-109.8\" font-family=\"Helvetica,sans-Serif\" font-size=\"14.00\" fill=\"#000000\">samples = 28.0%</text>\n<text text-anchor=\"middle\" x=\"407.5\" y=\"-94.8\" font-family=\"Helvetica,sans-Serif\" font-size=\"14.00\" fill=\"#000000\">value = [0.753, 0.076, 0.171]</text>\n<text text-anchor=\"middle\" x=\"407.5\" y=\"-79.8\" font-family=\"Helvetica,sans-Serif\" font-size=\"14.00\" fill=\"#000000\">class = functional</text>\n</g>\n<!-- 2&#45;&gt;1584 -->\n<g id=\"edge6\" class=\"edge\">\n<title>2&#45;&gt;1584</title>\n<path fill=\"none\" stroke=\"#000000\" d=\"M407.5,-175.9465C407.5,-167.776 407.5,-158.9318 407.5,-150.3697\"/>\n<polygon fill=\"#000000\" stroke=\"#000000\" points=\"411.0001,-150.13 407.5,-140.13 404.0001,-150.13 411.0001,-150.13\"/>\n</g>\n<!-- 4 -->\n<g id=\"node5\" class=\"node\">\n<title>4</title>\n<path fill=\"#c0c0c0\" stroke=\"#000000\" d=\"M123.5,-36C123.5,-36 93.5,-36 93.5,-36 87.5,-36 81.5,-30 81.5,-24 81.5,-24 81.5,-12 81.5,-12 81.5,-6 87.5,0 93.5,0 93.5,0 123.5,0 123.5,0 129.5,0 135.5,-6 135.5,-12 135.5,-12 135.5,-24 135.5,-24 135.5,-30 129.5,-36 123.5,-36\"/>\n<text text-anchor=\"middle\" x=\"108.5\" y=\"-14.3\" font-family=\"Helvetica,sans-Serif\" font-size=\"14.00\" fill=\"#000000\">(...)</text>\n</g>\n<!-- 3&#45;&gt;4 -->\n<g id=\"edge4\" class=\"edge\">\n<title>3&#45;&gt;4</title>\n<path fill=\"none\" stroke=\"#000000\" d=\"M130.5815,-71.9769C126.9977,-63.2167 123.1862,-53.8995 119.7564,-45.5157\"/>\n<polygon fill=\"#000000\" stroke=\"#000000\" points=\"122.968,-44.1222 115.9422,-36.192 116.4891,-46.7727 122.968,-44.1222\"/>\n</g>\n<!-- 1239 -->\n<g id=\"node6\" class=\"node\">\n<title>1239</title>\n<path fill=\"#c0c0c0\" stroke=\"#000000\" d=\"M195.5,-36C195.5,-36 165.5,-36 165.5,-36 159.5,-36 153.5,-30 153.5,-24 153.5,-24 153.5,-12 153.5,-12 153.5,-6 159.5,0 165.5,0 165.5,0 195.5,0 195.5,0 201.5,0 207.5,-6 207.5,-12 207.5,-12 207.5,-24 207.5,-24 207.5,-30 201.5,-36 195.5,-36\"/>\n<text text-anchor=\"middle\" x=\"180.5\" y=\"-14.3\" font-family=\"Helvetica,sans-Serif\" font-size=\"14.00\" fill=\"#000000\">(...)</text>\n</g>\n<!-- 3&#45;&gt;1239 -->\n<g id=\"edge5\" class=\"edge\">\n<title>3&#45;&gt;1239</title>\n<path fill=\"none\" stroke=\"#000000\" d=\"M158.4185,-71.9769C162.0023,-63.2167 165.8138,-53.8995 169.2436,-45.5157\"/>\n<polygon fill=\"#000000\" stroke=\"#000000\" points=\"172.5109,-46.7727 173.0578,-36.192 166.032,-44.1222 172.5109,-46.7727\"/>\n</g>\n<!-- 1585 -->\n<g id=\"node8\" class=\"node\">\n<title>1585</title>\n<path fill=\"#c0c0c0\" stroke=\"#000000\" d=\"M386.5,-36C386.5,-36 356.5,-36 356.5,-36 350.5,-36 344.5,-30 344.5,-24 344.5,-24 344.5,-12 344.5,-12 344.5,-6 350.5,0 356.5,0 356.5,0 386.5,0 386.5,0 392.5,0 398.5,-6 398.5,-12 398.5,-12 398.5,-24 398.5,-24 398.5,-30 392.5,-36 386.5,-36\"/>\n<text text-anchor=\"middle\" x=\"371.5\" y=\"-14.3\" font-family=\"Helvetica,sans-Serif\" font-size=\"14.00\" fill=\"#000000\">(...)</text>\n</g>\n<!-- 1584&#45;&gt;1585 -->\n<g id=\"edge7\" class=\"edge\">\n<title>1584&#45;&gt;1585</title>\n<path fill=\"none\" stroke=\"#000000\" d=\"M393.5815,-71.9769C389.9977,-63.2167 386.1862,-53.8995 382.7564,-45.5157\"/>\n<polygon fill=\"#000000\" stroke=\"#000000\" points=\"385.968,-44.1222 378.9422,-36.192 379.4891,-46.7727 385.968,-44.1222\"/>\n</g>\n<!-- 1904 -->\n<g id=\"node9\" class=\"node\">\n<title>1904</title>\n<path fill=\"#c0c0c0\" stroke=\"#000000\" d=\"M458.5,-36C458.5,-36 428.5,-36 428.5,-36 422.5,-36 416.5,-30 416.5,-24 416.5,-24 416.5,-12 416.5,-12 416.5,-6 422.5,0 428.5,0 428.5,0 458.5,0 458.5,0 464.5,0 470.5,-6 470.5,-12 470.5,-12 470.5,-24 470.5,-24 470.5,-30 464.5,-36 458.5,-36\"/>\n<text text-anchor=\"middle\" x=\"443.5\" y=\"-14.3\" font-family=\"Helvetica,sans-Serif\" font-size=\"14.00\" fill=\"#000000\">(...)</text>\n</g>\n<!-- 1584&#45;&gt;1904 -->\n<g id=\"edge8\" class=\"edge\">\n<title>1584&#45;&gt;1904</title>\n<path fill=\"none\" stroke=\"#000000\" d=\"M421.4185,-71.9769C425.0023,-63.2167 428.8138,-53.8995 432.2436,-45.5157\"/>\n<polygon fill=\"#000000\" stroke=\"#000000\" points=\"435.5109,-46.7727 436.0578,-36.192 429.032,-44.1222 435.5109,-46.7727\"/>\n</g>\n<!-- 2510 -->\n<g id=\"node11\" class=\"node\">\n<title>2510</title>\n<path fill=\"#c9aaf4\" stroke=\"#000000\" d=\"M713.5,-140C713.5,-140 537.5,-140 537.5,-140 531.5,-140 525.5,-134 525.5,-128 525.5,-128 525.5,-84 525.5,-84 525.5,-78 531.5,-72 537.5,-72 537.5,-72 713.5,-72 713.5,-72 719.5,-72 725.5,-78 725.5,-84 725.5,-84 725.5,-128 725.5,-128 725.5,-134 719.5,-140 713.5,-140\"/>\n<text text-anchor=\"middle\" x=\"625.5\" y=\"-124.8\" font-family=\"Helvetica,sans-Serif\" font-size=\"14.00\" fill=\"#000000\">latitude &lt;= &#45;3.167</text>\n<text text-anchor=\"middle\" x=\"625.5\" y=\"-109.8\" font-family=\"Helvetica,sans-Serif\" font-size=\"14.00\" fill=\"#000000\">samples = 2.4%</text>\n<text text-anchor=\"middle\" x=\"625.5\" y=\"-94.8\" font-family=\"Helvetica,sans-Serif\" font-size=\"14.00\" fill=\"#000000\">value = [0.288, 0.119, 0.593]</text>\n<text text-anchor=\"middle\" x=\"625.5\" y=\"-79.8\" font-family=\"Helvetica,sans-Serif\" font-size=\"14.00\" fill=\"#000000\">class = non functional</text>\n</g>\n<!-- 2509&#45;&gt;2510 -->\n<g id=\"edge10\" class=\"edge\">\n<title>2509&#45;&gt;2510</title>\n<path fill=\"none\" stroke=\"#000000\" d=\"M728.4021,-175.9465C714.2687,-166.3395 698.7648,-155.8009 684.1767,-145.8848\"/>\n<polygon fill=\"#000000\" stroke=\"#000000\" points=\"685.9483,-142.8571 675.7105,-140.13 682.0132,-148.6463 685.9483,-142.8571\"/>\n</g>\n<!-- 2831 -->\n<g id=\"node14\" class=\"node\">\n<title>2831</title>\n<path fill=\"#965ae9\" stroke=\"#000000\" d=\"M931.5,-140C931.5,-140 755.5,-140 755.5,-140 749.5,-140 743.5,-134 743.5,-128 743.5,-128 743.5,-84 743.5,-84 743.5,-78 749.5,-72 755.5,-72 755.5,-72 931.5,-72 931.5,-72 937.5,-72 943.5,-78 943.5,-84 943.5,-84 943.5,-128 943.5,-128 943.5,-134 937.5,-140 931.5,-140\"/>\n<text text-anchor=\"middle\" x=\"843.5\" y=\"-124.8\" font-family=\"Helvetica,sans-Serif\" font-size=\"14.00\" fill=\"#000000\">water_quality_milky &lt;= 0.5</text>\n<text text-anchor=\"middle\" x=\"843.5\" y=\"-109.8\" font-family=\"Helvetica,sans-Serif\" font-size=\"14.00\" fill=\"#000000\">samples = 6.1%</text>\n<text text-anchor=\"middle\" x=\"843.5\" y=\"-94.8\" font-family=\"Helvetica,sans-Serif\" font-size=\"14.00\" fill=\"#000000\">value = [0.113, 0.033, 0.854]</text>\n<text text-anchor=\"middle\" x=\"843.5\" y=\"-79.8\" font-family=\"Helvetica,sans-Serif\" font-size=\"14.00\" fill=\"#000000\">class = non functional</text>\n</g>\n<!-- 2509&#45;&gt;2831 -->\n<g id=\"edge13\" class=\"edge\">\n<title>2509&#45;&gt;2831</title>\n<path fill=\"none\" stroke=\"#000000\" d=\"M799.7834,-175.9465C805.2267,-167.2373 811.1484,-157.7626 816.825,-148.6801\"/>\n<polygon fill=\"#000000\" stroke=\"#000000\" points=\"819.8367,-150.465 822.1688,-140.13 813.9007,-146.755 819.8367,-150.465\"/>\n</g>\n<!-- 2511 -->\n<g id=\"node12\" class=\"node\">\n<title>2511</title>\n<path fill=\"#c0c0c0\" stroke=\"#000000\" d=\"M604.5,-36C604.5,-36 574.5,-36 574.5,-36 568.5,-36 562.5,-30 562.5,-24 562.5,-24 562.5,-12 562.5,-12 562.5,-6 568.5,0 574.5,0 574.5,0 604.5,0 604.5,0 610.5,0 616.5,-6 616.5,-12 616.5,-12 616.5,-24 616.5,-24 616.5,-30 610.5,-36 604.5,-36\"/>\n<text text-anchor=\"middle\" x=\"589.5\" y=\"-14.3\" font-family=\"Helvetica,sans-Serif\" font-size=\"14.00\" fill=\"#000000\">(...)</text>\n</g>\n<!-- 2510&#45;&gt;2511 -->\n<g id=\"edge11\" class=\"edge\">\n<title>2510&#45;&gt;2511</title>\n<path fill=\"none\" stroke=\"#000000\" d=\"M611.5815,-71.9769C607.9977,-63.2167 604.1862,-53.8995 600.7564,-45.5157\"/>\n<polygon fill=\"#000000\" stroke=\"#000000\" points=\"603.968,-44.1222 596.9422,-36.192 597.4891,-46.7727 603.968,-44.1222\"/>\n</g>\n<!-- 2758 -->\n<g id=\"node13\" class=\"node\">\n<title>2758</title>\n<path fill=\"#c0c0c0\" stroke=\"#000000\" d=\"M676.5,-36C676.5,-36 646.5,-36 646.5,-36 640.5,-36 634.5,-30 634.5,-24 634.5,-24 634.5,-12 634.5,-12 634.5,-6 640.5,0 646.5,0 646.5,0 676.5,0 676.5,0 682.5,0 688.5,-6 688.5,-12 688.5,-12 688.5,-24 688.5,-24 688.5,-30 682.5,-36 676.5,-36\"/>\n<text text-anchor=\"middle\" x=\"661.5\" y=\"-14.3\" font-family=\"Helvetica,sans-Serif\" font-size=\"14.00\" fill=\"#000000\">(...)</text>\n</g>\n<!-- 2510&#45;&gt;2758 -->\n<g id=\"edge12\" class=\"edge\">\n<title>2510&#45;&gt;2758</title>\n<path fill=\"none\" stroke=\"#000000\" d=\"M639.4185,-71.9769C643.0023,-63.2167 646.8138,-53.8995 650.2436,-45.5157\"/>\n<polygon fill=\"#000000\" stroke=\"#000000\" points=\"653.5109,-46.7727 654.0578,-36.192 647.032,-44.1222 653.5109,-46.7727\"/>\n</g>\n<!-- 2832 -->\n<g id=\"node15\" class=\"node\">\n<title>2832</title>\n<path fill=\"#c0c0c0\" stroke=\"#000000\" d=\"M822.5,-36C822.5,-36 792.5,-36 792.5,-36 786.5,-36 780.5,-30 780.5,-24 780.5,-24 780.5,-12 780.5,-12 780.5,-6 786.5,0 792.5,0 792.5,0 822.5,0 822.5,0 828.5,0 834.5,-6 834.5,-12 834.5,-12 834.5,-24 834.5,-24 834.5,-30 828.5,-36 822.5,-36\"/>\n<text text-anchor=\"middle\" x=\"807.5\" y=\"-14.3\" font-family=\"Helvetica,sans-Serif\" font-size=\"14.00\" fill=\"#000000\">(...)</text>\n</g>\n<!-- 2831&#45;&gt;2832 -->\n<g id=\"edge14\" class=\"edge\">\n<title>2831&#45;&gt;2832</title>\n<path fill=\"none\" stroke=\"#000000\" d=\"M829.5815,-71.9769C825.9977,-63.2167 822.1862,-53.8995 818.7564,-45.5157\"/>\n<polygon fill=\"#000000\" stroke=\"#000000\" points=\"821.968,-44.1222 814.9422,-36.192 815.4891,-46.7727 821.968,-44.1222\"/>\n</g>\n<!-- 3067 -->\n<g id=\"node16\" class=\"node\">\n<title>3067</title>\n<path fill=\"#c0c0c0\" stroke=\"#000000\" d=\"M894.5,-36C894.5,-36 864.5,-36 864.5,-36 858.5,-36 852.5,-30 852.5,-24 852.5,-24 852.5,-12 852.5,-12 852.5,-6 858.5,0 864.5,0 864.5,0 894.5,0 894.5,0 900.5,0 906.5,-6 906.5,-12 906.5,-12 906.5,-24 906.5,-24 906.5,-30 900.5,-36 894.5,-36\"/>\n<text text-anchor=\"middle\" x=\"879.5\" y=\"-14.3\" font-family=\"Helvetica,sans-Serif\" font-size=\"14.00\" fill=\"#000000\">(...)</text>\n</g>\n<!-- 2831&#45;&gt;3067 -->\n<g id=\"edge15\" class=\"edge\">\n<title>2831&#45;&gt;3067</title>\n<path fill=\"none\" stroke=\"#000000\" d=\"M857.4185,-71.9769C861.0023,-63.2167 864.8138,-53.8995 868.2436,-45.5157\"/>\n<polygon fill=\"#000000\" stroke=\"#000000\" points=\"871.5109,-46.7727 872.0578,-36.192 865.032,-44.1222 871.5109,-46.7727\"/>\n</g>\n<!-- 3167 -->\n<g id=\"node18\" class=\"node\">\n<title>3167</title>\n<path fill=\"#843ee6\" stroke=\"#000000\" d=\"M1253.5,-244C1253.5,-244 997.5,-244 997.5,-244 991.5,-244 985.5,-238 985.5,-232 985.5,-232 985.5,-188 985.5,-188 985.5,-182 991.5,-176 997.5,-176 997.5,-176 1253.5,-176 1253.5,-176 1259.5,-176 1265.5,-182 1265.5,-188 1265.5,-188 1265.5,-232 1265.5,-232 1265.5,-238 1259.5,-244 1253.5,-244\"/>\n<text text-anchor=\"middle\" x=\"1125.5\" y=\"-228.8\" font-family=\"Helvetica,sans-Serif\" font-size=\"14.00\" fill=\"#000000\">extraction_type_class_handpump &lt;= 0.5</text>\n<text text-anchor=\"middle\" x=\"1125.5\" y=\"-213.8\" font-family=\"Helvetica,sans-Serif\" font-size=\"14.00\" fill=\"#000000\">samples = 9.7%</text>\n<text text-anchor=\"middle\" x=\"1125.5\" y=\"-198.8\" font-family=\"Helvetica,sans-Serif\" font-size=\"14.00\" fill=\"#000000\">value = [0.019, 0.006, 0.974]</text>\n<text text-anchor=\"middle\" x=\"1125.5\" y=\"-183.8\" font-family=\"Helvetica,sans-Serif\" font-size=\"14.00\" fill=\"#000000\">class = non functional</text>\n</g>\n<!-- 3166&#45;&gt;3167 -->\n<g id=\"edge17\" class=\"edge\">\n<title>3166&#45;&gt;3167</title>\n<path fill=\"none\" stroke=\"#000000\" d=\"M1125.5,-279.9465C1125.5,-271.776 1125.5,-262.9318 1125.5,-254.3697\"/>\n<polygon fill=\"#000000\" stroke=\"#000000\" points=\"1129.0001,-254.13 1125.5,-244.13 1122.0001,-254.13 1129.0001,-254.13\"/>\n</g>\n<!-- 3462 -->\n<g id=\"node25\" class=\"node\">\n<title>3462</title>\n<path fill=\"#9558e9\" stroke=\"#000000\" d=\"M1627.5,-244C1627.5,-244 1451.5,-244 1451.5,-244 1445.5,-244 1439.5,-238 1439.5,-232 1439.5,-232 1439.5,-188 1439.5,-188 1439.5,-182 1445.5,-176 1451.5,-176 1451.5,-176 1627.5,-176 1627.5,-176 1633.5,-176 1639.5,-182 1639.5,-188 1639.5,-188 1639.5,-232 1639.5,-232 1639.5,-238 1633.5,-244 1627.5,-244\"/>\n<text text-anchor=\"middle\" x=\"1539.5\" y=\"-228.8\" font-family=\"Helvetica,sans-Serif\" font-size=\"14.00\" fill=\"#000000\">longitude &lt;= 32.736</text>\n<text text-anchor=\"middle\" x=\"1539.5\" y=\"-213.8\" font-family=\"Helvetica,sans-Serif\" font-size=\"14.00\" fill=\"#000000\">samples = 0.6%</text>\n<text text-anchor=\"middle\" x=\"1539.5\" y=\"-198.8\" font-family=\"Helvetica,sans-Serif\" font-size=\"14.00\" fill=\"#000000\">value = [0.132, 0.003, 0.864]</text>\n<text text-anchor=\"middle\" x=\"1539.5\" y=\"-183.8\" font-family=\"Helvetica,sans-Serif\" font-size=\"14.00\" fill=\"#000000\">class = non functional</text>\n</g>\n<!-- 3166&#45;&gt;3462 -->\n<g id=\"edge24\" class=\"edge\">\n<title>3166&#45;&gt;3462</title>\n<path fill=\"none\" stroke=\"#000000\" d=\"M1225.7179,-288.8245C1287.2764,-273.3605 1366.1849,-253.5381 1429.4706,-237.6402\"/>\n<polygon fill=\"#000000\" stroke=\"#000000\" points=\"1430.6425,-240.9547 1439.4884,-235.1237 1428.937,-234.1656 1430.6425,-240.9547\"/>\n</g>\n<!-- 3168 -->\n<g id=\"node19\" class=\"node\">\n<title>3168</title>\n<path fill=\"#833de5\" stroke=\"#000000\" d=\"M1149.5,-140C1149.5,-140 973.5,-140 973.5,-140 967.5,-140 961.5,-134 961.5,-128 961.5,-128 961.5,-84 961.5,-84 961.5,-78 967.5,-72 973.5,-72 973.5,-72 1149.5,-72 1149.5,-72 1155.5,-72 1161.5,-78 1161.5,-84 1161.5,-84 1161.5,-128 1161.5,-128 1161.5,-134 1155.5,-140 1149.5,-140\"/>\n<text text-anchor=\"middle\" x=\"1061.5\" y=\"-124.8\" font-family=\"Helvetica,sans-Serif\" font-size=\"14.00\" fill=\"#000000\">management_trust &lt;= 0.5</text>\n<text text-anchor=\"middle\" x=\"1061.5\" y=\"-109.8\" font-family=\"Helvetica,sans-Serif\" font-size=\"14.00\" fill=\"#000000\">samples = 8.1%</text>\n<text text-anchor=\"middle\" x=\"1061.5\" y=\"-94.8\" font-family=\"Helvetica,sans-Serif\" font-size=\"14.00\" fill=\"#000000\">value = [0.012, 0.006, 0.982]</text>\n<text text-anchor=\"middle\" x=\"1061.5\" y=\"-79.8\" font-family=\"Helvetica,sans-Serif\" font-size=\"14.00\" fill=\"#000000\">class = non functional</text>\n</g>\n<!-- 3167&#45;&gt;3168 -->\n<g id=\"edge18\" class=\"edge\">\n<title>3167&#45;&gt;3168</title>\n<path fill=\"none\" stroke=\"#000000\" d=\"M1104.544,-175.9465C1099.1845,-167.2373 1093.3539,-157.7626 1087.7647,-148.6801\"/>\n<polygon fill=\"#000000\" stroke=\"#000000\" points=\"1090.7249,-146.8122 1082.5031,-140.13 1084.7633,-150.481 1090.7249,-146.8122\"/>\n</g>\n<!-- 3323 -->\n<g id=\"node22\" class=\"node\">\n<title>3323</title>\n<path fill=\"#8946e7\" stroke=\"#000000\" d=\"M1417.5,-140C1417.5,-140 1191.5,-140 1191.5,-140 1185.5,-140 1179.5,-134 1179.5,-128 1179.5,-128 1179.5,-84 1179.5,-84 1179.5,-78 1185.5,-72 1191.5,-72 1191.5,-72 1417.5,-72 1417.5,-72 1423.5,-72 1429.5,-78 1429.5,-84 1429.5,-84 1429.5,-128 1429.5,-128 1429.5,-134 1423.5,-140 1417.5,-140\"/>\n<text text-anchor=\"middle\" x=\"1304.5\" y=\"-124.8\" font-family=\"Helvetica,sans-Serif\" font-size=\"14.00\" fill=\"#000000\">scheme_management_WUG &lt;= 0.5</text>\n<text text-anchor=\"middle\" x=\"1304.5\" y=\"-109.8\" font-family=\"Helvetica,sans-Serif\" font-size=\"14.00\" fill=\"#000000\">samples = 1.6%</text>\n<text text-anchor=\"middle\" x=\"1304.5\" y=\"-94.8\" font-family=\"Helvetica,sans-Serif\" font-size=\"14.00\" fill=\"#000000\">value = [0.052, 0.01, 0.938]</text>\n<text text-anchor=\"middle\" x=\"1304.5\" y=\"-79.8\" font-family=\"Helvetica,sans-Serif\" font-size=\"14.00\" fill=\"#000000\">class = non functional</text>\n</g>\n<!-- 3167&#45;&gt;3323 -->\n<g id=\"edge21\" class=\"edge\">\n<title>3167&#45;&gt;3323</title>\n<path fill=\"none\" stroke=\"#000000\" d=\"M1184.1113,-175.9465C1200.9555,-166.1599 1219.4636,-155.4066 1236.808,-145.3294\"/>\n<polygon fill=\"#000000\" stroke=\"#000000\" points=\"1238.8688,-148.18 1245.757,-140.13 1235.3522,-142.1274 1238.8688,-148.18\"/>\n</g>\n<!-- 3169 -->\n<g id=\"node20\" class=\"node\">\n<title>3169</title>\n<path fill=\"#c0c0c0\" stroke=\"#000000\" d=\"M1040.5,-36C1040.5,-36 1010.5,-36 1010.5,-36 1004.5,-36 998.5,-30 998.5,-24 998.5,-24 998.5,-12 998.5,-12 998.5,-6 1004.5,0 1010.5,0 1010.5,0 1040.5,0 1040.5,0 1046.5,0 1052.5,-6 1052.5,-12 1052.5,-12 1052.5,-24 1052.5,-24 1052.5,-30 1046.5,-36 1040.5,-36\"/>\n<text text-anchor=\"middle\" x=\"1025.5\" y=\"-14.3\" font-family=\"Helvetica,sans-Serif\" font-size=\"14.00\" fill=\"#000000\">(...)</text>\n</g>\n<!-- 3168&#45;&gt;3169 -->\n<g id=\"edge19\" class=\"edge\">\n<title>3168&#45;&gt;3169</title>\n<path fill=\"none\" stroke=\"#000000\" d=\"M1047.5815,-71.9769C1043.9977,-63.2167 1040.1862,-53.8995 1036.7564,-45.5157\"/>\n<polygon fill=\"#000000\" stroke=\"#000000\" points=\"1039.968,-44.1222 1032.9422,-36.192 1033.4891,-46.7727 1039.968,-44.1222\"/>\n</g>\n<!-- 3320 -->\n<g id=\"node21\" class=\"node\">\n<title>3320</title>\n<path fill=\"#c0c0c0\" stroke=\"#000000\" d=\"M1112.5,-36C1112.5,-36 1082.5,-36 1082.5,-36 1076.5,-36 1070.5,-30 1070.5,-24 1070.5,-24 1070.5,-12 1070.5,-12 1070.5,-6 1076.5,0 1082.5,0 1082.5,0 1112.5,0 1112.5,0 1118.5,0 1124.5,-6 1124.5,-12 1124.5,-12 1124.5,-24 1124.5,-24 1124.5,-30 1118.5,-36 1112.5,-36\"/>\n<text text-anchor=\"middle\" x=\"1097.5\" y=\"-14.3\" font-family=\"Helvetica,sans-Serif\" font-size=\"14.00\" fill=\"#000000\">(...)</text>\n</g>\n<!-- 3168&#45;&gt;3320 -->\n<g id=\"edge20\" class=\"edge\">\n<title>3168&#45;&gt;3320</title>\n<path fill=\"none\" stroke=\"#000000\" d=\"M1075.4185,-71.9769C1079.0023,-63.2167 1082.8138,-53.8995 1086.2436,-45.5157\"/>\n<polygon fill=\"#000000\" stroke=\"#000000\" points=\"1089.5109,-46.7727 1090.0578,-36.192 1083.032,-44.1222 1089.5109,-46.7727\"/>\n</g>\n<!-- 3324 -->\n<g id=\"node23\" class=\"node\">\n<title>3324</title>\n<path fill=\"#c0c0c0\" stroke=\"#000000\" d=\"M1283.5,-36C1283.5,-36 1253.5,-36 1253.5,-36 1247.5,-36 1241.5,-30 1241.5,-24 1241.5,-24 1241.5,-12 1241.5,-12 1241.5,-6 1247.5,0 1253.5,0 1253.5,0 1283.5,0 1283.5,0 1289.5,0 1295.5,-6 1295.5,-12 1295.5,-12 1295.5,-24 1295.5,-24 1295.5,-30 1289.5,-36 1283.5,-36\"/>\n<text text-anchor=\"middle\" x=\"1268.5\" y=\"-14.3\" font-family=\"Helvetica,sans-Serif\" font-size=\"14.00\" fill=\"#000000\">(...)</text>\n</g>\n<!-- 3323&#45;&gt;3324 -->\n<g id=\"edge22\" class=\"edge\">\n<title>3323&#45;&gt;3324</title>\n<path fill=\"none\" stroke=\"#000000\" d=\"M1290.5815,-71.9769C1286.9977,-63.2167 1283.1862,-53.8995 1279.7564,-45.5157\"/>\n<polygon fill=\"#000000\" stroke=\"#000000\" points=\"1282.968,-44.1222 1275.9422,-36.192 1276.4891,-46.7727 1282.968,-44.1222\"/>\n</g>\n<!-- 3409 -->\n<g id=\"node24\" class=\"node\">\n<title>3409</title>\n<path fill=\"#c0c0c0\" stroke=\"#000000\" d=\"M1355.5,-36C1355.5,-36 1325.5,-36 1325.5,-36 1319.5,-36 1313.5,-30 1313.5,-24 1313.5,-24 1313.5,-12 1313.5,-12 1313.5,-6 1319.5,0 1325.5,0 1325.5,0 1355.5,0 1355.5,0 1361.5,0 1367.5,-6 1367.5,-12 1367.5,-12 1367.5,-24 1367.5,-24 1367.5,-30 1361.5,-36 1355.5,-36\"/>\n<text text-anchor=\"middle\" x=\"1340.5\" y=\"-14.3\" font-family=\"Helvetica,sans-Serif\" font-size=\"14.00\" fill=\"#000000\">(...)</text>\n</g>\n<!-- 3323&#45;&gt;3409 -->\n<g id=\"edge23\" class=\"edge\">\n<title>3323&#45;&gt;3409</title>\n<path fill=\"none\" stroke=\"#000000\" d=\"M1318.4185,-71.9769C1322.0023,-63.2167 1325.8138,-53.8995 1329.2436,-45.5157\"/>\n<polygon fill=\"#000000\" stroke=\"#000000\" points=\"1332.5109,-46.7727 1333.0578,-36.192 1326.032,-44.1222 1332.5109,-46.7727\"/>\n</g>\n<!-- 3463 -->\n<g id=\"node26\" class=\"node\">\n<title>3463</title>\n<path fill=\"#fbe9dd\" stroke=\"#000000\" d=\"M1619.5,-140C1619.5,-140 1459.5,-140 1459.5,-140 1453.5,-140 1447.5,-134 1447.5,-128 1447.5,-128 1447.5,-84 1447.5,-84 1447.5,-78 1453.5,-72 1459.5,-72 1459.5,-72 1619.5,-72 1619.5,-72 1625.5,-72 1631.5,-78 1631.5,-84 1631.5,-84 1631.5,-128 1631.5,-128 1631.5,-134 1625.5,-140 1619.5,-140\"/>\n<text text-anchor=\"middle\" x=\"1539.5\" y=\"-124.8\" font-family=\"Helvetica,sans-Serif\" font-size=\"14.00\" fill=\"#000000\">longitude &lt;= 32.133</text>\n<text text-anchor=\"middle\" x=\"1539.5\" y=\"-109.8\" font-family=\"Helvetica,sans-Serif\" font-size=\"14.00\" fill=\"#000000\">samples = 0.1%</text>\n<text text-anchor=\"middle\" x=\"1539.5\" y=\"-94.8\" font-family=\"Helvetica,sans-Serif\" font-size=\"14.00\" fill=\"#000000\">value = [0.547, 0.0, 0.453]</text>\n<text text-anchor=\"middle\" x=\"1539.5\" y=\"-79.8\" font-family=\"Helvetica,sans-Serif\" font-size=\"14.00\" fill=\"#000000\">class = functional</text>\n</g>\n<!-- 3462&#45;&gt;3463 -->\n<g id=\"edge25\" class=\"edge\">\n<title>3462&#45;&gt;3463</title>\n<path fill=\"none\" stroke=\"#000000\" d=\"M1539.5,-175.9465C1539.5,-167.776 1539.5,-158.9318 1539.5,-150.3697\"/>\n<polygon fill=\"#000000\" stroke=\"#000000\" points=\"1543.0001,-150.13 1539.5,-140.13 1536.0001,-150.13 1543.0001,-150.13\"/>\n</g>\n<!-- 3504 -->\n<g id=\"node29\" class=\"node\">\n<title>3504</title>\n<path fill=\"#8743e6\" stroke=\"#000000\" d=\"M1881.5,-140C1881.5,-140 1661.5,-140 1661.5,-140 1655.5,-140 1649.5,-134 1649.5,-128 1649.5,-128 1649.5,-84 1649.5,-84 1649.5,-78 1655.5,-72 1661.5,-72 1661.5,-72 1881.5,-72 1881.5,-72 1887.5,-72 1893.5,-78 1893.5,-84 1893.5,-84 1893.5,-128 1893.5,-128 1893.5,-134 1887.5,-140 1881.5,-140\"/>\n<text text-anchor=\"middle\" x=\"1771.5\" y=\"-124.8\" font-family=\"Helvetica,sans-Serif\" font-size=\"14.00\" fill=\"#000000\">source_rainwater harvesting &lt;= 0.5</text>\n<text text-anchor=\"middle\" x=\"1771.5\" y=\"-109.8\" font-family=\"Helvetica,sans-Serif\" font-size=\"14.00\" fill=\"#000000\">samples = 0.5%</text>\n<text text-anchor=\"middle\" x=\"1771.5\" y=\"-94.8\" font-family=\"Helvetica,sans-Serif\" font-size=\"14.00\" fill=\"#000000\">value = [0.044, 0.004, 0.952]</text>\n<text text-anchor=\"middle\" x=\"1771.5\" y=\"-79.8\" font-family=\"Helvetica,sans-Serif\" font-size=\"14.00\" fill=\"#000000\">class = non functional</text>\n</g>\n<!-- 3462&#45;&gt;3504 -->\n<g id=\"edge28\" class=\"edge\">\n<title>3462&#45;&gt;3504</title>\n<path fill=\"none\" stroke=\"#000000\" d=\"M1615.4655,-175.9465C1638.0983,-165.8008 1663.0487,-154.6161 1686.2337,-144.2228\"/>\n<polygon fill=\"#000000\" stroke=\"#000000\" points=\"1687.6705,-147.4144 1695.3639,-140.13 1684.807,-141.0268 1687.6705,-147.4144\"/>\n</g>\n<!-- 3464 -->\n<g id=\"node27\" class=\"node\">\n<title>3464</title>\n<path fill=\"#c0c0c0\" stroke=\"#000000\" d=\"M1518.5,-36C1518.5,-36 1488.5,-36 1488.5,-36 1482.5,-36 1476.5,-30 1476.5,-24 1476.5,-24 1476.5,-12 1476.5,-12 1476.5,-6 1482.5,0 1488.5,0 1488.5,0 1518.5,0 1518.5,0 1524.5,0 1530.5,-6 1530.5,-12 1530.5,-12 1530.5,-24 1530.5,-24 1530.5,-30 1524.5,-36 1518.5,-36\"/>\n<text text-anchor=\"middle\" x=\"1503.5\" y=\"-14.3\" font-family=\"Helvetica,sans-Serif\" font-size=\"14.00\" fill=\"#000000\">(...)</text>\n</g>\n<!-- 3463&#45;&gt;3464 -->\n<g id=\"edge26\" class=\"edge\">\n<title>3463&#45;&gt;3464</title>\n<path fill=\"none\" stroke=\"#000000\" d=\"M1525.5815,-71.9769C1521.9977,-63.2167 1518.1862,-53.8995 1514.7564,-45.5157\"/>\n<polygon fill=\"#000000\" stroke=\"#000000\" points=\"1517.968,-44.1222 1510.9422,-36.192 1511.4891,-46.7727 1517.968,-44.1222\"/>\n</g>\n<!-- 3465 -->\n<g id=\"node28\" class=\"node\">\n<title>3465</title>\n<path fill=\"#c0c0c0\" stroke=\"#000000\" d=\"M1590.5,-36C1590.5,-36 1560.5,-36 1560.5,-36 1554.5,-36 1548.5,-30 1548.5,-24 1548.5,-24 1548.5,-12 1548.5,-12 1548.5,-6 1554.5,0 1560.5,0 1560.5,0 1590.5,0 1590.5,0 1596.5,0 1602.5,-6 1602.5,-12 1602.5,-12 1602.5,-24 1602.5,-24 1602.5,-30 1596.5,-36 1590.5,-36\"/>\n<text text-anchor=\"middle\" x=\"1575.5\" y=\"-14.3\" font-family=\"Helvetica,sans-Serif\" font-size=\"14.00\" fill=\"#000000\">(...)</text>\n</g>\n<!-- 3463&#45;&gt;3465 -->\n<g id=\"edge27\" class=\"edge\">\n<title>3463&#45;&gt;3465</title>\n<path fill=\"none\" stroke=\"#000000\" d=\"M1553.4185,-71.9769C1557.0023,-63.2167 1560.8138,-53.8995 1564.2436,-45.5157\"/>\n<polygon fill=\"#000000\" stroke=\"#000000\" points=\"1567.5109,-46.7727 1568.0578,-36.192 1561.032,-44.1222 1567.5109,-46.7727\"/>\n</g>\n<!-- 3505 -->\n<g id=\"node30\" class=\"node\">\n<title>3505</title>\n<path fill=\"#c0c0c0\" stroke=\"#000000\" d=\"M1750.5,-36C1750.5,-36 1720.5,-36 1720.5,-36 1714.5,-36 1708.5,-30 1708.5,-24 1708.5,-24 1708.5,-12 1708.5,-12 1708.5,-6 1714.5,0 1720.5,0 1720.5,0 1750.5,0 1750.5,0 1756.5,0 1762.5,-6 1762.5,-12 1762.5,-12 1762.5,-24 1762.5,-24 1762.5,-30 1756.5,-36 1750.5,-36\"/>\n<text text-anchor=\"middle\" x=\"1735.5\" y=\"-14.3\" font-family=\"Helvetica,sans-Serif\" font-size=\"14.00\" fill=\"#000000\">(...)</text>\n</g>\n<!-- 3504&#45;&gt;3505 -->\n<g id=\"edge29\" class=\"edge\">\n<title>3504&#45;&gt;3505</title>\n<path fill=\"none\" stroke=\"#000000\" d=\"M1757.5815,-71.9769C1753.9977,-63.2167 1750.1862,-53.8995 1746.7564,-45.5157\"/>\n<polygon fill=\"#000000\" stroke=\"#000000\" points=\"1749.968,-44.1222 1742.9422,-36.192 1743.4891,-46.7727 1749.968,-44.1222\"/>\n</g>\n<!-- 3536 -->\n<g id=\"node31\" class=\"node\">\n<title>3536</title>\n<path fill=\"#c0c0c0\" stroke=\"#000000\" d=\"M1822.5,-36C1822.5,-36 1792.5,-36 1792.5,-36 1786.5,-36 1780.5,-30 1780.5,-24 1780.5,-24 1780.5,-12 1780.5,-12 1780.5,-6 1786.5,0 1792.5,0 1792.5,0 1822.5,0 1822.5,0 1828.5,0 1834.5,-6 1834.5,-12 1834.5,-12 1834.5,-24 1834.5,-24 1834.5,-30 1828.5,-36 1822.5,-36\"/>\n<text text-anchor=\"middle\" x=\"1807.5\" y=\"-14.3\" font-family=\"Helvetica,sans-Serif\" font-size=\"14.00\" fill=\"#000000\">(...)</text>\n</g>\n<!-- 3504&#45;&gt;3536 -->\n<g id=\"edge30\" class=\"edge\">\n<title>3504&#45;&gt;3536</title>\n<path fill=\"none\" stroke=\"#000000\" d=\"M1785.4185,-71.9769C1789.0023,-63.2167 1792.8138,-53.8995 1796.2436,-45.5157\"/>\n<polygon fill=\"#000000\" stroke=\"#000000\" points=\"1799.5109,-46.7727 1800.0578,-36.192 1793.032,-44.1222 1799.5109,-46.7727\"/>\n</g>\n</g>\n</svg>\n"
          },
          "metadata": {
            "tags": []
          }
        }
      ]
    },
    {
      "cell_type": "markdown",
      "metadata": {
        "id": "PgAmkKL27II0",
        "colab_type": "text"
      },
      "source": [
        "## 4. Get your validation accuracy score."
      ]
    },
    {
      "cell_type": "code",
      "metadata": {
        "id": "HHdOkgf47h4J",
        "colab_type": "code",
        "outputId": "00ecdbd2-0794-4638-cc65-502c69f666e0",
        "colab": {
          "base_uri": "https://localhost:8080/",
          "height": 52
        }
      },
      "source": [
        "from sklearn.tree import DecisionTreeClassifier\n",
        "\n",
        "dt = make_pipeline(\n",
        "    SimpleImputer(),\n",
        "    DecisionTreeClassifier(max_depth=15, random_state=42)\n",
        ")\n",
        "\n",
        "dt.fit(train_location, y_train)\n",
        "print ('Training Accuracy', dt.score(train_location, y_train))\n",
        "print ('Validation Accuracy', dt.score(val_location, y_val))"
      ],
      "execution_count": 0,
      "outputs": [
        {
          "output_type": "stream",
          "text": [
            "Training Accuracy 0.7712962962962963\n",
            "Validation Accuracy 0.6482323232323233\n"
          ],
          "name": "stdout"
        }
      ]
    },
    {
      "cell_type": "markdown",
      "metadata": {
        "id": "F23qy1Dh7iPZ",
        "colab_type": "text"
      },
      "source": [
        "## 5. Get and plot your feature importances."
      ]
    },
    {
      "cell_type": "code",
      "metadata": {
        "id": "1k5aeULf8JWN",
        "colab_type": "code",
        "outputId": "ff25a10b-b44e-427e-e763-c5817d758402",
        "colab": {
          "base_uri": "https://localhost:8080/",
          "height": 286
        }
      },
      "source": [
        "from sklearn.tree import DecisionTreeClassifier\n",
        "\n",
        "pipeline = make_pipeline(\n",
        "    \n",
        "    ce.OneHotEncoder(use_cat_names=True),\n",
        "    SimpleImputer(),\n",
        "    DecisionTreeClassifier(max_depth=15, random_state=42)\n",
        "\n",
        ")\n",
        "pipeline.fit(X_train, y_train)\n",
        "\n",
        "model = pipeline.named_steps['decisiontreeclassifier']\n",
        "encoder = pipeline.named_steps['onehotencoder']\n",
        "encoded_columns = encoder.transform(X_train).columns \n",
        "importances = pd.Series(model.feature_importances_, encoded_columns)\n",
        "importances.sort_values().plot.barh(color='grey')"
      ],
      "execution_count": 0,
      "outputs": [
        {
          "output_type": "execute_result",
          "data": {
            "text/plain": [
              "<matplotlib.axes._subplots.AxesSubplot at 0x7fd4b02ac6d8>"
            ]
          },
          "metadata": {
            "tags": []
          },
          "execution_count": 14
        },
        {
          "output_type": "display_data",
          "data": {
            "image/png": "[encoded data removed]",
            "text/plain": [
              "<Figure size 432x288 with 1 Axes>"
            ]
          },
          "metadata": {
            "tags": []
          }
        }
      ]
    },
    {
      "cell_type": "code",
      "metadata": {
        "id": "l53WW9xA7pq6",
        "colab_type": "code",
        "outputId": "b14dc433-1d37-4619-ba5f-eba3399422f6",
        "colab": {
          "base_uri": "https://localhost:8080/",
          "height": 1000
        }
      },
      "source": [
        "importances.sort_values()"
      ],
      "execution_count": 0,
      "outputs": [
        {
          "output_type": "execute_result",
          "data": {
            "text/plain": [
              "extraction_type_other - mkulima/shinyanga    0.000000\n",
              "region_Tabora                                0.000000\n",
              "scheme_management_Private operator           0.000000\n",
              "scheme_management_Other                      0.000000\n",
              "scheme_management_Trust                      0.000000\n",
              "scheme_management_None                       0.000000\n",
              "extraction_type_gravity                      0.000000\n",
              "extraction_type_afridev                      0.000000\n",
              "extraction_type_other - play pump            0.000000\n",
              "extraction_type_climax                       0.000000\n",
              "extraction_type_cemo                         0.000000\n",
              "region_Lindi                                 0.000000\n",
              "extraction_type_walimi                       0.000000\n",
              "waterpoint_type_group_cattle trough          0.000000\n",
              "extraction_type_group_other handpump         0.000000\n",
              "extraction_type_class_other                  0.000000\n",
              "extraction_type_class_rope pump              0.000000\n",
              "extraction_type_class_wind-powered           0.000000\n",
              "management_company                           0.000000\n",
              "management_other - school                    0.000000\n",
              "management_group_unknown                     0.000000\n",
              "water_quality_fluoride abandoned             0.000000\n",
              "source_other                                 0.000000\n",
              "extraction_type_windmill                     0.000000\n",
              "region_Mtwara                                0.000000\n",
              "waterpoint_type_group_dam                    0.000000\n",
              "region_Rukwa                                 0.000000\n",
              "region_Iringa                                0.000000\n",
              "region_Manyara                               0.000005\n",
              "extraction_type_group_submersible            0.000073\n",
              "                                               ...   \n",
              "region_Shinyanga                             0.004138\n",
              "date_recorded                                0.004238\n",
              "management_group_commercial                  0.004331\n",
              "source_machine dbh                           0.004981\n",
              "basin_Internal                               0.005009\n",
              "permit_missing                               0.005127\n",
              "scheme_management_VWC                        0.005145\n",
              "water_quality_unknown                        0.005316\n",
              "payment_never pay                            0.005400\n",
              "management_vwc                               0.005826\n",
              "extraction_type_class_gravity                0.006067\n",
              "payment_pay per bucket                       0.006750\n",
              "scheme_management_Company                    0.007102\n",
              "region_code                                  0.007550\n",
              "source_lake                                  0.008786\n",
              "quantity_enough                              0.009244\n",
              "basin_Lake Nyasa                             0.009607\n",
              "extraction_type_group_nira/tanira            0.009771\n",
              "extraction_type_class_motorpump              0.009834\n",
              "extraction_type_group_other                  0.010575\n",
              "extraction_type_class_submersible            0.013078\n",
              "district_code                                0.013490\n",
              "quantity_insufficient                        0.014129\n",
              "gps_height                                   0.034427\n",
              "population                                   0.036102\n",
              "amount_tsh                                   0.037449\n",
              "longitude                                    0.102082\n",
              "latitude                                     0.109393\n",
              "waterpoint_type_group_other                  0.134349\n",
              "quantity_dry                                 0.246386\n",
              "Length: 153, dtype: float64"
            ]
          },
          "metadata": {
            "tags": []
          },
          "execution_count": 15
        }
      ]
    },
    {
      "cell_type": "markdown",
      "metadata": {
        "id": "HBDlfxsa_Dhn",
        "colab_type": "text"
      },
      "source": [
        "## Submit to Kaggle"
      ]
    },
    {
      "cell_type": "code",
      "metadata": {
        "id": "T2bq3yWr_Hac",
        "colab_type": "code",
        "colab": {}
      },
      "source": [
        "y_pred = model.predict(X_test_scaled)\n",
        "submission = sample_submission.copy()\n",
        "submission['status_group'] = y_pred\n",
        "submission.to_csv('submission-03.csv', index=False)"
      ],
      "execution_count": 0,
      "outputs": []
    },
    {
      "cell_type": "code",
      "metadata": {
        "id": "g6krTJs2AwcT",
        "colab_type": "code",
        "colab": {}
      },
      "source": [
        "from google.colab import files\n",
        "files.download('submission-03.csv')"
      ],
      "execution_count": 0,
      "outputs": []
    }
  ]
}